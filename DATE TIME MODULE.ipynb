{
 "cells": [
  {
   "cell_type": "markdown",
   "id": "20863eb2",
   "metadata": {},
   "source": [
    "# DATE AND MODULE"
   ]
  },
  {
   "cell_type": "code",
   "execution_count": 1,
   "id": "929e5aca",
   "metadata": {},
   "outputs": [],
   "source": [
    "import datetime"
   ]
  },
  {
   "cell_type": "code",
   "execution_count": 2,
   "id": "f72006a4",
   "metadata": {},
   "outputs": [
    {
     "data": {
      "text/plain": [
       "datetime.datetime(2023, 8, 16, 17, 45, 57, 107078)"
      ]
     },
     "execution_count": 2,
     "metadata": {},
     "output_type": "execute_result"
    }
   ],
   "source": [
    "datetime.datetime.now()"
   ]
  },
  {
   "cell_type": "code",
   "execution_count": 3,
   "id": "715c1acf",
   "metadata": {},
   "outputs": [],
   "source": [
    "import datetime as dt"
   ]
  },
  {
   "cell_type": "code",
   "execution_count": 4,
   "id": "3728de98",
   "metadata": {},
   "outputs": [
    {
     "data": {
      "text/plain": [
       "datetime.datetime(2023, 8, 16, 17, 46, 29, 73461)"
      ]
     },
     "execution_count": 4,
     "metadata": {},
     "output_type": "execute_result"
    }
   ],
   "source": [
    "dt.datetime.now()"
   ]
  },
  {
   "cell_type": "code",
   "execution_count": 5,
   "id": "6ef24818",
   "metadata": {},
   "outputs": [],
   "source": [
    "from math import sqrt"
   ]
  },
  {
   "cell_type": "code",
   "execution_count": 6,
   "id": "1d9f7110",
   "metadata": {},
   "outputs": [
    {
     "data": {
      "text/plain": [
       "5.0"
      ]
     },
     "execution_count": 6,
     "metadata": {},
     "output_type": "execute_result"
    }
   ],
   "source": [
    "sqrt(25)"
   ]
  },
  {
   "cell_type": "code",
   "execution_count": 7,
   "id": "64559e46",
   "metadata": {},
   "outputs": [],
   "source": [
    "from math import *"
   ]
  },
  {
   "cell_type": "code",
   "execution_count": 9,
   "id": "50178752",
   "metadata": {},
   "outputs": [],
   "source": [
    "import datetime as ft"
   ]
  },
  {
   "cell_type": "code",
   "execution_count": 10,
   "id": "3646532a",
   "metadata": {},
   "outputs": [],
   "source": [
    "k = ft.datetime.now()"
   ]
  },
  {
   "cell_type": "code",
   "execution_count": 11,
   "id": "8087a616",
   "metadata": {},
   "outputs": [
    {
     "data": {
      "text/plain": [
       "2023"
      ]
     },
     "execution_count": 11,
     "metadata": {},
     "output_type": "execute_result"
    }
   ],
   "source": [
    "k.year"
   ]
  },
  {
   "cell_type": "code",
   "execution_count": 12,
   "id": "df0ea392",
   "metadata": {},
   "outputs": [
    {
     "data": {
      "text/plain": [
       "8"
      ]
     },
     "execution_count": 12,
     "metadata": {},
     "output_type": "execute_result"
    }
   ],
   "source": [
    "k.month"
   ]
  },
  {
   "cell_type": "code",
   "execution_count": 14,
   "id": "0751b1c6",
   "metadata": {},
   "outputs": [
    {
     "data": {
      "text/plain": [
       "16"
      ]
     },
     "execution_count": 14,
     "metadata": {},
     "output_type": "execute_result"
    }
   ],
   "source": [
    "k.day"
   ]
  },
  {
   "cell_type": "code",
   "execution_count": 15,
   "id": "1e474e4c",
   "metadata": {},
   "outputs": [
    {
     "data": {
      "text/plain": [
       "17"
      ]
     },
     "execution_count": 15,
     "metadata": {},
     "output_type": "execute_result"
    }
   ],
   "source": [
    "k.hour"
   ]
  },
  {
   "cell_type": "code",
   "execution_count": 16,
   "id": "9c50d910",
   "metadata": {},
   "outputs": [
    {
     "data": {
      "text/plain": [
       "51"
      ]
     },
     "execution_count": 16,
     "metadata": {},
     "output_type": "execute_result"
    }
   ],
   "source": [
    "k.minute"
   ]
  },
  {
   "cell_type": "code",
   "execution_count": 17,
   "id": "e4d8fcb7",
   "metadata": {},
   "outputs": [
    {
     "data": {
      "text/plain": [
       "'33'"
      ]
     },
     "execution_count": 17,
     "metadata": {},
     "output_type": "execute_result"
    }
   ],
   "source": [
    "k.strftime(\"%W\")"
   ]
  },
  {
   "cell_type": "code",
   "execution_count": 18,
   "id": "e341446a",
   "metadata": {},
   "outputs": [
    {
     "data": {
      "text/plain": [
       "'3'"
      ]
     },
     "execution_count": 18,
     "metadata": {},
     "output_type": "execute_result"
    }
   ],
   "source": [
    "k.strftime(\"%w\")"
   ]
  },
  {
   "cell_type": "code",
   "execution_count": 19,
   "id": "4f83ecb1",
   "metadata": {},
   "outputs": [
    {
     "data": {
      "text/plain": [
       "'Wednesday'"
      ]
     },
     "execution_count": 19,
     "metadata": {},
     "output_type": "execute_result"
    }
   ],
   "source": [
    "k.strftime(\"%A\")"
   ]
  },
  {
   "cell_type": "code",
   "execution_count": 20,
   "id": "4052ba3a",
   "metadata": {},
   "outputs": [
    {
     "data": {
      "text/plain": [
       "'Wed'"
      ]
     },
     "execution_count": 20,
     "metadata": {},
     "output_type": "execute_result"
    }
   ],
   "source": [
    "k.strftime(\"%a\")"
   ]
  },
  {
   "cell_type": "code",
   "execution_count": 21,
   "id": "3cbbd7c7",
   "metadata": {},
   "outputs": [
    {
     "data": {
      "text/plain": [
       "'08/16/23'"
      ]
     },
     "execution_count": 21,
     "metadata": {},
     "output_type": "execute_result"
    }
   ],
   "source": [
    "k.strftime(\"%D\")"
   ]
  },
  {
   "cell_type": "code",
   "execution_count": 22,
   "id": "8ea208b1",
   "metadata": {},
   "outputs": [
    {
     "data": {
      "text/plain": [
       "'17:51:12'"
      ]
     },
     "execution_count": 22,
     "metadata": {},
     "output_type": "execute_result"
    }
   ],
   "source": [
    "k.strftime(\"%T\")"
   ]
  },
  {
   "cell_type": "code",
   "execution_count": 23,
   "id": "c3354694",
   "metadata": {},
   "outputs": [
    {
     "data": {
      "text/plain": [
       "'August'"
      ]
     },
     "execution_count": 23,
     "metadata": {},
     "output_type": "execute_result"
    }
   ],
   "source": [
    "k.strftime(\"%B\")"
   ]
  },
  {
   "cell_type": "code",
   "execution_count": 24,
   "id": "600ccae2",
   "metadata": {},
   "outputs": [],
   "source": [
    "import turtle"
   ]
  },
  {
   "cell_type": "code",
   "execution_count": 28,
   "id": "8d7a8850",
   "metadata": {},
   "outputs": [
    {
     "ename": "TypeError",
     "evalue": "RawTurtle.begin_fill() takes 1 positional argument but 2 were given",
     "output_type": "error",
     "traceback": [
      "\u001b[1;31m---------------------------------------------------------------------------\u001b[0m",
      "\u001b[1;31mTypeError\u001b[0m                                 Traceback (most recent call last)",
      "Cell \u001b[1;32mIn[28], line 2\u001b[0m\n\u001b[0;32m      1\u001b[0m temp \u001b[38;5;241m=\u001b[39m turtle\u001b[38;5;241m.\u001b[39mTurtle()\n\u001b[1;32m----> 2\u001b[0m temp\u001b[38;5;241m.\u001b[39mbegin_fill(\u001b[38;5;124m\"\u001b[39m\u001b[38;5;124mred\u001b[39m\u001b[38;5;124m\"\u001b[39m)\n\u001b[0;32m      3\u001b[0m temp\u001b[38;5;241m.\u001b[39mforward(\u001b[38;5;241m200\u001b[39m)\n\u001b[0;32m      4\u001b[0m temp\u001b[38;5;241m.\u001b[39mright(\u001b[38;5;241m90\u001b[39m)\n",
      "\u001b[1;31mTypeError\u001b[0m: RawTurtle.begin_fill() takes 1 positional argument but 2 were given"
     ]
    }
   ],
   "source": [
    "temp = turtle.Turtle()\n",
    "temp.begin_fill(\"red\")\n",
    "temp.forward(200)\n",
    "temp.right(90)\n",
    "temp.forward(200)\n",
    "temp.right(90)\n",
    "temp.forward(200)\n",
    "temp.right(90)\n",
    "temp.forward(200)\n",
    "temp.right(90)\n",
    "temp.end_fill()"
   ]
  },
  {
   "cell_type": "code",
   "execution_count": null,
   "id": "ed2cc59e",
   "metadata": {},
   "outputs": [],
   "source": []
  }
 ],
 "metadata": {
  "kernelspec": {
   "display_name": "Python 3 (ipykernel)",
   "language": "python",
   "name": "python3"
  },
  "language_info": {
   "codemirror_mode": {
    "name": "ipython",
    "version": 3
   },
   "file_extension": ".py",
   "mimetype": "text/x-python",
   "name": "python",
   "nbconvert_exporter": "python",
   "pygments_lexer": "ipython3",
   "version": "3.11.3"
  }
 },
 "nbformat": 4,
 "nbformat_minor": 5
}
